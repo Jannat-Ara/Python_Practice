{
  "nbformat": 4,
  "nbformat_minor": 0,
  "metadata": {
    "colab": {
      "name": "python_practice(if-else).ipynb",
      "provenance": [],
      "authorship_tag": "ABX9TyM7NATu720YvT5fuayOnKXt",
      "include_colab_link": true
    },
    "kernelspec": {
      "name": "python3",
      "display_name": "Python 3"
    },
    "language_info": {
      "name": "python"
    }
  },
  "cells": [
    {
      "cell_type": "markdown",
      "metadata": {
        "id": "view-in-github",
        "colab_type": "text"
      },
      "source": [
        "<a href=\"https://colab.research.google.com/github/Jannat-Ara/Python_Practice/blob/Problem_solving/python_practice(if_else).ipynb\" target=\"_parent\"><img src=\"https://colab.research.google.com/assets/colab-badge.svg\" alt=\"Open In Colab\"/></a>"
      ]
    },
    {
      "cell_type": "code",
      "execution_count": 3,
      "metadata": {
        "id": "hsixr9uNrZ2u"
      },
      "outputs": [],
      "source": [
        "###Hacker_Rank problem(python_if-else)"
      ]
    },
    {
      "cell_type": "code",
      "source": [
        "###Question(If-Else)\n",
        "#Given an integer, , perform the following conditional actions:\n",
        "\n",
        "#If n is odd, print Weird\n",
        "#If n is even and in the inclusive range of  to , print Not Weird\n",
        "#If n is even and in the inclusive range of  to , print Weird\n",
        "#If n is even and greater than , print Not Weird\n",
        "\n",
        "\n",
        "\n",
        "import math\n",
        "import os\n",
        "import random\n",
        "import re\n",
        "import sys\n",
        "\n",
        "\n",
        "\n",
        "\n",
        "if __name__ == '__main__':\n",
        "    n = int(input().strip())\n",
        "if (n%2!=0):\n",
        "    print(\"Weird\")\n",
        "else:\n",
        "    if n>=2 and n<=5:\n",
        "        print(\"Not Weird\")\n",
        "    elif n>=6 and n<=20:\n",
        "        print(\"Weird\")\n",
        "    elif n>20:\n",
        "        print(\"Not Weird\")\n",
        "        \n",
        "        \n",
        "\n",
        "\n",
        "\n"
      ],
      "metadata": {
        "colab": {
          "base_uri": "https://localhost:8080/"
        },
        "id": "sk0z9BlSrdg6",
        "outputId": "bb7301b9-3efc-4fcc-9119-e0b825393bcd"
      },
      "execution_count": 5,
      "outputs": [
        {
          "output_type": "stream",
          "name": "stdout",
          "text": [
            "25\n",
            "Weird\n"
          ]
        }
      ]
    }
  ]
}